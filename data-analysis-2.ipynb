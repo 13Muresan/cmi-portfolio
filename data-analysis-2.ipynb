{
 "metadata": {
  "language_info": {
   "codemirror_mode": {
    "name": "ipython",
    "version": 3
   },
   "file_extension": ".py",
   "mimetype": "text/x-python",
   "name": "python",
   "nbconvert_exporter": "python",
   "pygments_lexer": "ipython3",
   "version": "3.8.3-final"
  },
  "orig_nbformat": 2,
  "kernelspec": {
   "name": "python3",
   "display_name": "Python 3.8.3 64-bit ('anaconda3': virtualenv)",
   "metadata": {
    "interpreter": {
     "hash": "dca0ade3e726a953b501b15e8e990130d2b7799f14cfd9f4271676035ebe5511"
    }
   }
  }
 },
 "nbformat": 4,
 "nbformat_minor": 2,
 "cells": [
  {
   "cell_type": "code",
   "execution_count": 15,
   "metadata": {},
   "outputs": [],
   "source": [
    "import pandas as pd\n",
    "import matplotlib.pyplot as plt\n",
    "%matplotlib inline"
   ]
  },
  {
   "cell_type": "code",
   "execution_count": 6,
   "metadata": {},
   "outputs": [
    {
     "output_type": "execute_result",
     "data": {
      "text/plain": [
       "0    1\n",
       "1    2\n",
       "2    3\n",
       "3    4\n",
       "4    5\n",
       "5    6\n",
       "6    7\n",
       "dtype: int64"
      ]
     },
     "metadata": {},
     "execution_count": 6
    }
   ],
   "source": [
    "series1 = pd.Series([1,2,3,4,5,6,7])\n",
    "series1"
   ]
  },
  {
   "cell_type": "code",
   "execution_count": 4,
   "metadata": {},
   "outputs": [
    {
     "output_type": "execute_result",
     "data": {
      "text/plain": [
       "0    1.2\n",
       "1    2.3\n",
       "2    1.2\n",
       "dtype: object"
      ]
     },
     "metadata": {},
     "execution_count": 4
    }
   ],
   "source": [
    "series2 = pd.Series([\"1.2\", \"2.3\", \"1.2\"])\n",
    "series2"
   ]
  },
  {
   "cell_type": "code",
   "execution_count": 7,
   "metadata": {},
   "outputs": [
    {
     "output_type": "execute_result",
     "data": {
      "text/plain": [
       "array([1, 2, 3, 4, 5, 6, 7])"
      ]
     },
     "metadata": {},
     "execution_count": 7
    }
   ],
   "source": [
    "series1.values"
   ]
  },
  {
   "cell_type": "code",
   "execution_count": 8,
   "metadata": {},
   "outputs": [
    {
     "output_type": "execute_result",
     "data": {
      "text/plain": [
       "RangeIndex(start=0, stop=7, step=1)"
      ]
     },
     "metadata": {},
     "execution_count": 8
    }
   ],
   "source": [
    "series1.index"
   ]
  },
  {
   "cell_type": "code",
   "execution_count": 9,
   "metadata": {},
   "outputs": [
    {
     "output_type": "execute_result",
     "data": {
      "text/plain": [
       "mon    11\n",
       "tue    12\n",
       "wed    13\n",
       "thu    14\n",
       "fri    15\n",
       "dtype: int64"
      ]
     },
     "metadata": {},
     "execution_count": 9
    }
   ],
   "source": [
    "series3 = pd.Series([11, 12, 13, 14, 15], index=['mon', 'tue', 'wed', 'thu', 'fri'])\n",
    "series3"
   ]
  },
  {
   "cell_type": "code",
   "execution_count": 32,
   "metadata": {},
   "outputs": [
    {
     "output_type": "execute_result",
     "data": {
      "text/plain": [
       "<matplotlib.axes._subplots.AxesSubplot at 0x7fec0965bd60>"
      ]
     },
     "metadata": {},
     "execution_count": 32
    },
    {
     "output_type": "display_data",
     "data": {
      "text/plain": "<Figure size 432x288 with 1 Axes>",
      "image/svg+xml": "<?xml version=\"1.0\" encoding=\"utf-8\" standalone=\"no\"?>\n<!DOCTYPE svg PUBLIC \"-//W3C//DTD SVG 1.1//EN\"\n  \"http://www.w3.org/Graphics/SVG/1.1/DTD/svg11.dtd\">\n<!-- Created with matplotlib (https://matplotlib.org/) -->\n<svg height=\"254.679315pt\" version=\"1.1\" viewBox=\"0 0 362.5625 254.679315\" width=\"362.5625pt\" xmlns=\"http://www.w3.org/2000/svg\" xmlns:xlink=\"http://www.w3.org/1999/xlink\">\n <defs>\n  <style type=\"text/css\">\n*{stroke-linecap:butt;stroke-linejoin:round;}\n  </style>\n </defs>\n <g id=\"figure_1\">\n  <g id=\"patch_1\">\n   <path d=\"M 0 254.679315 \nL 362.5625 254.679315 \nL 362.5625 0 \nL 0 0 \nz\n\" style=\"fill:none;\"/>\n  </g>\n  <g id=\"axes_1\">\n   <g id=\"patch_2\">\n    <path d=\"M 20.5625 203.04 \nL 355.3625 203.04 \nL 355.3625 7.2 \nL 20.5625 7.2 \nz\n\" style=\"fill:#ffffff;\"/>\n   </g>\n   <g id=\"matplotlib.axis_1\">\n    <g id=\"xtick_1\">\n     <g id=\"line2d_1\">\n      <defs>\n       <path d=\"M 0 0 \nL 0 3.5 \n\" id=\"m519702f6bb\" style=\"stroke:#000000;stroke-width:0.8;\"/>\n      </defs>\n      <g>\n       <use style=\"stroke:#000000;stroke-width:0.8;\" x=\"67.048581\" xlink:href=\"#m519702f6bb\" y=\"203.04\"/>\n      </g>\n     </g>\n     <g id=\"text_1\">\n      <!-- 2021-08-01 -->\n      <defs>\n       <path d=\"M 19.1875 8.296875 \nL 53.609375 8.296875 \nL 53.609375 0 \nL 7.328125 0 \nL 7.328125 8.296875 \nQ 12.9375 14.109375 22.625 23.890625 \nQ 32.328125 33.6875 34.8125 36.53125 \nQ 39.546875 41.84375 41.421875 45.53125 \nQ 43.3125 49.21875 43.3125 52.78125 \nQ 43.3125 58.59375 39.234375 62.25 \nQ 35.15625 65.921875 28.609375 65.921875 \nQ 23.96875 65.921875 18.8125 64.3125 \nQ 13.671875 62.703125 7.8125 59.421875 \nL 7.8125 69.390625 \nQ 13.765625 71.78125 18.9375 73 \nQ 24.125 74.21875 28.421875 74.21875 \nQ 39.75 74.21875 46.484375 68.546875 \nQ 53.21875 62.890625 53.21875 53.421875 \nQ 53.21875 48.921875 51.53125 44.890625 \nQ 49.859375 40.875 45.40625 35.40625 \nQ 44.1875 33.984375 37.640625 27.21875 \nQ 31.109375 20.453125 19.1875 8.296875 \nz\n\" id=\"DejaVuSans-50\"/>\n       <path d=\"M 31.78125 66.40625 \nQ 24.171875 66.40625 20.328125 58.90625 \nQ 16.5 51.421875 16.5 36.375 \nQ 16.5 21.390625 20.328125 13.890625 \nQ 24.171875 6.390625 31.78125 6.390625 \nQ 39.453125 6.390625 43.28125 13.890625 \nQ 47.125 21.390625 47.125 36.375 \nQ 47.125 51.421875 43.28125 58.90625 \nQ 39.453125 66.40625 31.78125 66.40625 \nz\nM 31.78125 74.21875 \nQ 44.046875 74.21875 50.515625 64.515625 \nQ 56.984375 54.828125 56.984375 36.375 \nQ 56.984375 17.96875 50.515625 8.265625 \nQ 44.046875 -1.421875 31.78125 -1.421875 \nQ 19.53125 -1.421875 13.0625 8.265625 \nQ 6.59375 17.96875 6.59375 36.375 \nQ 6.59375 54.828125 13.0625 64.515625 \nQ 19.53125 74.21875 31.78125 74.21875 \nz\n\" id=\"DejaVuSans-48\"/>\n       <path d=\"M 12.40625 8.296875 \nL 28.515625 8.296875 \nL 28.515625 63.921875 \nL 10.984375 60.40625 \nL 10.984375 69.390625 \nL 28.421875 72.90625 \nL 38.28125 72.90625 \nL 38.28125 8.296875 \nL 54.390625 8.296875 \nL 54.390625 0 \nL 12.40625 0 \nz\n\" id=\"DejaVuSans-49\"/>\n       <path d=\"M 4.890625 31.390625 \nL 31.203125 31.390625 \nL 31.203125 23.390625 \nL 4.890625 23.390625 \nz\n\" id=\"DejaVuSans-45\"/>\n       <path d=\"M 31.78125 34.625 \nQ 24.75 34.625 20.71875 30.859375 \nQ 16.703125 27.09375 16.703125 20.515625 \nQ 16.703125 13.921875 20.71875 10.15625 \nQ 24.75 6.390625 31.78125 6.390625 \nQ 38.8125 6.390625 42.859375 10.171875 \nQ 46.921875 13.96875 46.921875 20.515625 \nQ 46.921875 27.09375 42.890625 30.859375 \nQ 38.875 34.625 31.78125 34.625 \nz\nM 21.921875 38.8125 \nQ 15.578125 40.375 12.03125 44.71875 \nQ 8.5 49.078125 8.5 55.328125 \nQ 8.5 64.0625 14.71875 69.140625 \nQ 20.953125 74.21875 31.78125 74.21875 \nQ 42.671875 74.21875 48.875 69.140625 \nQ 55.078125 64.0625 55.078125 55.328125 \nQ 55.078125 49.078125 51.53125 44.71875 \nQ 48 40.375 41.703125 38.8125 \nQ 48.828125 37.15625 52.796875 32.3125 \nQ 56.78125 27.484375 56.78125 20.515625 \nQ 56.78125 9.90625 50.3125 4.234375 \nQ 43.84375 -1.421875 31.78125 -1.421875 \nQ 19.734375 -1.421875 13.25 4.234375 \nQ 6.78125 9.90625 6.78125 20.515625 \nQ 6.78125 27.484375 10.78125 32.3125 \nQ 14.796875 37.15625 21.921875 38.8125 \nz\nM 18.3125 54.390625 \nQ 18.3125 48.734375 21.84375 45.5625 \nQ 25.390625 42.390625 31.78125 42.390625 \nQ 38.140625 42.390625 41.71875 45.5625 \nQ 45.3125 48.734375 45.3125 54.390625 \nQ 45.3125 60.0625 41.71875 63.234375 \nQ 38.140625 66.40625 31.78125 66.40625 \nQ 25.390625 66.40625 21.84375 63.234375 \nQ 18.3125 60.0625 18.3125 54.390625 \nz\n\" id=\"DejaVuSans-56\"/>\n      </defs>\n      <g transform=\"translate(15.67913 245.678252)rotate(-30)scale(0.1 -0.1)\">\n       <use xlink:href=\"#DejaVuSans-50\"/>\n       <use x=\"63.623047\" xlink:href=\"#DejaVuSans-48\"/>\n       <use x=\"127.246094\" xlink:href=\"#DejaVuSans-50\"/>\n       <use x=\"190.869141\" xlink:href=\"#DejaVuSans-49\"/>\n       <use x=\"254.492188\" xlink:href=\"#DejaVuSans-45\"/>\n       <use x=\"290.576172\" xlink:href=\"#DejaVuSans-48\"/>\n       <use x=\"354.199219\" xlink:href=\"#DejaVuSans-56\"/>\n       <use x=\"417.822266\" xlink:href=\"#DejaVuSans-45\"/>\n       <use x=\"453.90625\" xlink:href=\"#DejaVuSans-48\"/>\n       <use x=\"517.529297\" xlink:href=\"#DejaVuSans-49\"/>\n      </g>\n     </g>\n    </g>\n    <g id=\"xtick_2\">\n     <g id=\"line2d_2\">\n      <g>\n       <use style=\"stroke:#000000;stroke-width:0.8;\" x=\"114.926007\" xlink:href=\"#m519702f6bb\" y=\"203.04\"/>\n      </g>\n     </g>\n     <g id=\"text_2\">\n      <!-- 2021-08-15 -->\n      <defs>\n       <path d=\"M 10.796875 72.90625 \nL 49.515625 72.90625 \nL 49.515625 64.59375 \nL 19.828125 64.59375 \nL 19.828125 46.734375 \nQ 21.96875 47.46875 24.109375 47.828125 \nQ 26.265625 48.1875 28.421875 48.1875 \nQ 40.625 48.1875 47.75 41.5 \nQ 54.890625 34.8125 54.890625 23.390625 \nQ 54.890625 11.625 47.5625 5.09375 \nQ 40.234375 -1.421875 26.90625 -1.421875 \nQ 22.3125 -1.421875 17.546875 -0.640625 \nQ 12.796875 0.140625 7.71875 1.703125 \nL 7.71875 11.625 \nQ 12.109375 9.234375 16.796875 8.0625 \nQ 21.484375 6.890625 26.703125 6.890625 \nQ 35.15625 6.890625 40.078125 11.328125 \nQ 45.015625 15.765625 45.015625 23.390625 \nQ 45.015625 31 40.078125 35.4375 \nQ 35.15625 39.890625 26.703125 39.890625 \nQ 22.75 39.890625 18.8125 39.015625 \nQ 14.890625 38.140625 10.796875 36.28125 \nz\n\" id=\"DejaVuSans-53\"/>\n      </defs>\n      <g transform=\"translate(63.556556 245.678252)rotate(-30)scale(0.1 -0.1)\">\n       <use xlink:href=\"#DejaVuSans-50\"/>\n       <use x=\"63.623047\" xlink:href=\"#DejaVuSans-48\"/>\n       <use x=\"127.246094\" xlink:href=\"#DejaVuSans-50\"/>\n       <use x=\"190.869141\" xlink:href=\"#DejaVuSans-49\"/>\n       <use x=\"254.492188\" xlink:href=\"#DejaVuSans-45\"/>\n       <use x=\"290.576172\" xlink:href=\"#DejaVuSans-48\"/>\n       <use x=\"354.199219\" xlink:href=\"#DejaVuSans-56\"/>\n       <use x=\"417.822266\" xlink:href=\"#DejaVuSans-45\"/>\n       <use x=\"453.90625\" xlink:href=\"#DejaVuSans-49\"/>\n       <use x=\"517.529297\" xlink:href=\"#DejaVuSans-53\"/>\n      </g>\n     </g>\n    </g>\n    <g id=\"xtick_3\">\n     <g id=\"line2d_3\">\n      <g>\n       <use style=\"stroke:#000000;stroke-width:0.8;\" x=\"173.062881\" xlink:href=\"#m519702f6bb\" y=\"203.04\"/>\n      </g>\n     </g>\n     <g id=\"text_3\">\n      <!-- 2021-09-01 -->\n      <defs>\n       <path d=\"M 10.984375 1.515625 \nL 10.984375 10.5 \nQ 14.703125 8.734375 18.5 7.8125 \nQ 22.3125 6.890625 25.984375 6.890625 \nQ 35.75 6.890625 40.890625 13.453125 \nQ 46.046875 20.015625 46.78125 33.40625 \nQ 43.953125 29.203125 39.59375 26.953125 \nQ 35.25 24.703125 29.984375 24.703125 \nQ 19.046875 24.703125 12.671875 31.3125 \nQ 6.296875 37.9375 6.296875 49.421875 \nQ 6.296875 60.640625 12.9375 67.421875 \nQ 19.578125 74.21875 30.609375 74.21875 \nQ 43.265625 74.21875 49.921875 64.515625 \nQ 56.59375 54.828125 56.59375 36.375 \nQ 56.59375 19.140625 48.40625 8.859375 \nQ 40.234375 -1.421875 26.421875 -1.421875 \nQ 22.703125 -1.421875 18.890625 -0.6875 \nQ 15.09375 0.046875 10.984375 1.515625 \nz\nM 30.609375 32.421875 \nQ 37.25 32.421875 41.125 36.953125 \nQ 45.015625 41.5 45.015625 49.421875 \nQ 45.015625 57.28125 41.125 61.84375 \nQ 37.25 66.40625 30.609375 66.40625 \nQ 23.96875 66.40625 20.09375 61.84375 \nQ 16.21875 57.28125 16.21875 49.421875 \nQ 16.21875 41.5 20.09375 36.953125 \nQ 23.96875 32.421875 30.609375 32.421875 \nz\n\" id=\"DejaVuSans-57\"/>\n      </defs>\n      <g transform=\"translate(121.69343 245.678252)rotate(-30)scale(0.1 -0.1)\">\n       <use xlink:href=\"#DejaVuSans-50\"/>\n       <use x=\"63.623047\" xlink:href=\"#DejaVuSans-48\"/>\n       <use x=\"127.246094\" xlink:href=\"#DejaVuSans-50\"/>\n       <use x=\"190.869141\" xlink:href=\"#DejaVuSans-49\"/>\n       <use x=\"254.492188\" xlink:href=\"#DejaVuSans-45\"/>\n       <use x=\"290.576172\" xlink:href=\"#DejaVuSans-48\"/>\n       <use x=\"354.199219\" xlink:href=\"#DejaVuSans-57\"/>\n       <use x=\"417.822266\" xlink:href=\"#DejaVuSans-45\"/>\n       <use x=\"453.90625\" xlink:href=\"#DejaVuSans-48\"/>\n       <use x=\"517.529297\" xlink:href=\"#DejaVuSans-49\"/>\n      </g>\n     </g>\n    </g>\n    <g id=\"xtick_4\">\n     <g id=\"line2d_4\">\n      <g>\n       <use style=\"stroke:#000000;stroke-width:0.8;\" x=\"220.940307\" xlink:href=\"#m519702f6bb\" y=\"203.04\"/>\n      </g>\n     </g>\n     <g id=\"text_4\">\n      <!-- 2021-09-15 -->\n      <g transform=\"translate(169.570856 245.678252)rotate(-30)scale(0.1 -0.1)\">\n       <use xlink:href=\"#DejaVuSans-50\"/>\n       <use x=\"63.623047\" xlink:href=\"#DejaVuSans-48\"/>\n       <use x=\"127.246094\" xlink:href=\"#DejaVuSans-50\"/>\n       <use x=\"190.869141\" xlink:href=\"#DejaVuSans-49\"/>\n       <use x=\"254.492188\" xlink:href=\"#DejaVuSans-45\"/>\n       <use x=\"290.576172\" xlink:href=\"#DejaVuSans-48\"/>\n       <use x=\"354.199219\" xlink:href=\"#DejaVuSans-57\"/>\n       <use x=\"417.822266\" xlink:href=\"#DejaVuSans-45\"/>\n       <use x=\"453.90625\" xlink:href=\"#DejaVuSans-49\"/>\n       <use x=\"517.529297\" xlink:href=\"#DejaVuSans-53\"/>\n      </g>\n     </g>\n    </g>\n    <g id=\"xtick_5\">\n     <g id=\"line2d_5\">\n      <g>\n       <use style=\"stroke:#000000;stroke-width:0.8;\" x=\"275.657366\" xlink:href=\"#m519702f6bb\" y=\"203.04\"/>\n      </g>\n     </g>\n     <g id=\"text_5\">\n      <!-- 2021-10-01 -->\n      <g transform=\"translate(224.287914 245.678252)rotate(-30)scale(0.1 -0.1)\">\n       <use xlink:href=\"#DejaVuSans-50\"/>\n       <use x=\"63.623047\" xlink:href=\"#DejaVuSans-48\"/>\n       <use x=\"127.246094\" xlink:href=\"#DejaVuSans-50\"/>\n       <use x=\"190.869141\" xlink:href=\"#DejaVuSans-49\"/>\n       <use x=\"254.492188\" xlink:href=\"#DejaVuSans-45\"/>\n       <use x=\"290.576172\" xlink:href=\"#DejaVuSans-49\"/>\n       <use x=\"354.199219\" xlink:href=\"#DejaVuSans-48\"/>\n       <use x=\"417.822266\" xlink:href=\"#DejaVuSans-45\"/>\n       <use x=\"453.90625\" xlink:href=\"#DejaVuSans-48\"/>\n       <use x=\"517.529297\" xlink:href=\"#DejaVuSans-49\"/>\n      </g>\n     </g>\n    </g>\n    <g id=\"xtick_6\">\n     <g id=\"line2d_6\">\n      <g>\n       <use style=\"stroke:#000000;stroke-width:0.8;\" x=\"323.534792\" xlink:href=\"#m519702f6bb\" y=\"203.04\"/>\n      </g>\n     </g>\n     <g id=\"text_6\">\n      <!-- 2021-10-15 -->\n      <g transform=\"translate(272.16534 245.678252)rotate(-30)scale(0.1 -0.1)\">\n       <use xlink:href=\"#DejaVuSans-50\"/>\n       <use x=\"63.623047\" xlink:href=\"#DejaVuSans-48\"/>\n       <use x=\"127.246094\" xlink:href=\"#DejaVuSans-50\"/>\n       <use x=\"190.869141\" xlink:href=\"#DejaVuSans-49\"/>\n       <use x=\"254.492188\" xlink:href=\"#DejaVuSans-45\"/>\n       <use x=\"290.576172\" xlink:href=\"#DejaVuSans-49\"/>\n       <use x=\"354.199219\" xlink:href=\"#DejaVuSans-48\"/>\n       <use x=\"417.822266\" xlink:href=\"#DejaVuSans-45\"/>\n       <use x=\"453.90625\" xlink:href=\"#DejaVuSans-49\"/>\n       <use x=\"517.529297\" xlink:href=\"#DejaVuSans-53\"/>\n      </g>\n     </g>\n    </g>\n   </g>\n   <g id=\"matplotlib.axis_2\">\n    <g id=\"ytick_1\">\n     <g id=\"line2d_7\">\n      <defs>\n       <path d=\"M 0 0 \nL -3.5 0 \n\" id=\"me7b505078c\" style=\"stroke:#000000;stroke-width:0.8;\"/>\n      </defs>\n      <g>\n       <use style=\"stroke:#000000;stroke-width:0.8;\" x=\"20.5625\" xlink:href=\"#me7b505078c\" y=\"194.250796\"/>\n      </g>\n     </g>\n     <g id=\"text_7\">\n      <!-- 0 -->\n      <g transform=\"translate(7.2 198.050015)scale(0.1 -0.1)\">\n       <use xlink:href=\"#DejaVuSans-48\"/>\n      </g>\n     </g>\n    </g>\n    <g id=\"ytick_2\">\n     <g id=\"line2d_8\">\n      <g>\n       <use style=\"stroke:#000000;stroke-width:0.8;\" x=\"20.5625\" xlink:href=\"#me7b505078c\" y=\"152.406108\"/>\n      </g>\n     </g>\n     <g id=\"text_8\">\n      <!-- 2 -->\n      <g transform=\"translate(7.2 156.205327)scale(0.1 -0.1)\">\n       <use xlink:href=\"#DejaVuSans-50\"/>\n      </g>\n     </g>\n    </g>\n    <g id=\"ytick_3\">\n     <g id=\"line2d_9\">\n      <g>\n       <use style=\"stroke:#000000;stroke-width:0.8;\" x=\"20.5625\" xlink:href=\"#me7b505078c\" y=\"110.56142\"/>\n      </g>\n     </g>\n     <g id=\"text_9\">\n      <!-- 4 -->\n      <defs>\n       <path d=\"M 37.796875 64.3125 \nL 12.890625 25.390625 \nL 37.796875 25.390625 \nz\nM 35.203125 72.90625 \nL 47.609375 72.90625 \nL 47.609375 25.390625 \nL 58.015625 25.390625 \nL 58.015625 17.1875 \nL 47.609375 17.1875 \nL 47.609375 0 \nL 37.796875 0 \nL 37.796875 17.1875 \nL 4.890625 17.1875 \nL 4.890625 26.703125 \nz\n\" id=\"DejaVuSans-52\"/>\n      </defs>\n      <g transform=\"translate(7.2 114.360639)scale(0.1 -0.1)\">\n       <use xlink:href=\"#DejaVuSans-52\"/>\n      </g>\n     </g>\n    </g>\n    <g id=\"ytick_4\">\n     <g id=\"line2d_10\">\n      <g>\n       <use style=\"stroke:#000000;stroke-width:0.8;\" x=\"20.5625\" xlink:href=\"#me7b505078c\" y=\"68.716733\"/>\n      </g>\n     </g>\n     <g id=\"text_10\">\n      <!-- 6 -->\n      <defs>\n       <path d=\"M 33.015625 40.375 \nQ 26.375 40.375 22.484375 35.828125 \nQ 18.609375 31.296875 18.609375 23.390625 \nQ 18.609375 15.53125 22.484375 10.953125 \nQ 26.375 6.390625 33.015625 6.390625 \nQ 39.65625 6.390625 43.53125 10.953125 \nQ 47.40625 15.53125 47.40625 23.390625 \nQ 47.40625 31.296875 43.53125 35.828125 \nQ 39.65625 40.375 33.015625 40.375 \nz\nM 52.59375 71.296875 \nL 52.59375 62.3125 \nQ 48.875 64.0625 45.09375 64.984375 \nQ 41.3125 65.921875 37.59375 65.921875 \nQ 27.828125 65.921875 22.671875 59.328125 \nQ 17.53125 52.734375 16.796875 39.40625 \nQ 19.671875 43.65625 24.015625 45.921875 \nQ 28.375 48.1875 33.59375 48.1875 \nQ 44.578125 48.1875 50.953125 41.515625 \nQ 57.328125 34.859375 57.328125 23.390625 \nQ 57.328125 12.15625 50.6875 5.359375 \nQ 44.046875 -1.421875 33.015625 -1.421875 \nQ 20.359375 -1.421875 13.671875 8.265625 \nQ 6.984375 17.96875 6.984375 36.375 \nQ 6.984375 53.65625 15.1875 63.9375 \nQ 23.390625 74.21875 37.203125 74.21875 \nQ 40.921875 74.21875 44.703125 73.484375 \nQ 48.484375 72.75 52.59375 71.296875 \nz\n\" id=\"DejaVuSans-54\"/>\n      </defs>\n      <g transform=\"translate(7.2 72.515951)scale(0.1 -0.1)\">\n       <use xlink:href=\"#DejaVuSans-54\"/>\n      </g>\n     </g>\n    </g>\n    <g id=\"ytick_5\">\n     <g id=\"line2d_11\">\n      <g>\n       <use style=\"stroke:#000000;stroke-width:0.8;\" x=\"20.5625\" xlink:href=\"#me7b505078c\" y=\"26.872045\"/>\n      </g>\n     </g>\n     <g id=\"text_11\">\n      <!-- 8 -->\n      <g transform=\"translate(7.2 30.671264)scale(0.1 -0.1)\">\n       <use xlink:href=\"#DejaVuSans-56\"/>\n      </g>\n     </g>\n    </g>\n   </g>\n   <g id=\"line2d_12\">\n    <path clip-path=\"url(#p3397f7919c)\" d=\"M 35.780682 189.824451 \nL 39.200498 167.992062 \nL 42.620314 185.51391 \nL 46.04013 193.222816 \nL 49.459946 62.501833 \nL 52.879763 169.62087 \nL 56.299579 158.883975 \nL 59.719395 194.138182 \nL 63.139211 175.896583 \nL 66.559027 152.96981 \nL 69.978843 162.908878 \nL 73.398659 127.387907 \nL 76.818475 68.510479 \nL 80.238292 155.403906 \nL 83.658108 134.361154 \nL 87.077924 182.57883 \nL 90.49774 105.323241 \nL 93.917556 125.025694 \nL 97.337372 156.836576 \nL 100.757188 187.449401 \nL 104.177005 192.615025 \nL 107.596821 148.140636 \nL 111.016637 35.327478 \nL 114.436453 179.619327 \nL 117.856269 154.267598 \nL 121.276085 146.570032 \nL 124.695901 167.648877 \nL 128.115718 101.389675 \nL 131.535534 112.928028 \nL 134.95535 81.71539 \nL 138.375166 116.515584 \nL 141.794982 90.41792 \nL 145.214798 191.937929 \nL 148.634614 120.871114 \nL 152.054431 38.58883 \nL 155.474247 80.732307 \nL 158.894063 159.688749 \nL 162.313879 146.078031 \nL 165.733695 170.792527 \nL 169.153511 92.184714 \nL 172.573327 148.371238 \nL 175.993144 55.336353 \nL 179.41296 152.669006 \nL 182.832776 161.683136 \nL 186.252592 158.857256 \nL 189.672408 193.001081 \nL 193.092224 159.557325 \nL 196.51204 180.316573 \nL 199.931856 104.881809 \nL 203.351673 175.631643 \nL 206.771489 179.585218 \nL 210.191305 166.421784 \nL 213.611121 176.896656 \nL 217.030937 64.314853 \nL 220.450753 148.344674 \nL 223.870569 143.00178 \nL 227.290386 187.514419 \nL 230.710202 175.117457 \nL 234.130018 193.085311 \nL 237.549834 16.101818 \nL 240.96965 95.413645 \nL 244.389466 188.038708 \nL 247.809282 113.478572 \nL 251.229099 167.735412 \nL 254.648915 133.975739 \nL 258.068731 18.491296 \nL 261.488547 171.444574 \nL 264.908363 121.880612 \nL 268.328179 50.107218 \nL 271.747995 176.20999 \nL 275.167812 122.963925 \nL 278.587628 74.825776 \nL 282.007444 103.090602 \nL 285.42726 135.699945 \nL 288.847076 186.587734 \nL 292.266892 168.653367 \nL 295.686708 86.809376 \nL 299.106525 148.887136 \nL 302.526341 190.350784 \nL 305.946157 127.489346 \nL 309.365973 187.879088 \nL 312.785789 53.79448 \nL 316.205605 190.687536 \nL 319.625421 188.760087 \nL 323.045237 189.933393 \nL 326.465054 99.317256 \nL 329.88487 191.409945 \nL 333.304686 193.585331 \nL 336.724502 183.087637 \nL 340.144318 179.430554 \n\" style=\"fill:none;stroke:#1f77b4;stroke-linecap:square;stroke-width:1.5;\"/>\n   </g>\n   <g id=\"patch_3\">\n    <path d=\"M 20.5625 203.04 \nL 20.5625 7.2 \n\" style=\"fill:none;stroke:#000000;stroke-linecap:square;stroke-linejoin:miter;stroke-width:0.8;\"/>\n   </g>\n   <g id=\"patch_4\">\n    <path d=\"M 355.3625 203.04 \nL 355.3625 7.2 \n\" style=\"fill:none;stroke:#000000;stroke-linecap:square;stroke-linejoin:miter;stroke-width:0.8;\"/>\n   </g>\n   <g id=\"patch_5\">\n    <path d=\"M 20.5625 203.04 \nL 355.3625 203.04 \n\" style=\"fill:none;stroke:#000000;stroke-linecap:square;stroke-linejoin:miter;stroke-width:0.8;\"/>\n   </g>\n   <g id=\"patch_6\">\n    <path d=\"M 20.5625 7.2 \nL 355.3625 7.2 \n\" style=\"fill:none;stroke:#000000;stroke-linecap:square;stroke-linejoin:miter;stroke-width:0.8;\"/>\n   </g>\n  </g>\n </g>\n <defs>\n  <clipPath id=\"p3397f7919c\">\n   <rect height=\"195.84\" width=\"334.8\" x=\"20.5625\" y=\"7.2\"/>\n  </clipPath>\n </defs>\n</svg>\n",
      "image/png": "[encoded data removed]"
     },
     "metadata": {
      "needs_background": "light"
     }
    }
   ],
   "source": [
    "from datetime import datetime, timedelta \n",
    "import random \n",
    "\n",
    "times = []\n",
    "values = []\n",
    "other_values = []\n",
    "for i in range(0, 100):\n",
    "    current_time = datetime.now() - timedelta(days=i)\n",
    "    times.append(current_time)\n",
    "    values.append(random.random())\n",
    "    other_values.append(random.random() * 10)\n",
    "\n",
    "series4 = pd.Series(values, index=times)\n",
    "series5 = pd.Series(other_values[:-10], index=times[:-10])\n",
    "series6 = series4 * series5\n",
    "series6.plot()"
   ]
  },
  {
   "cell_type": "code",
   "execution_count": 35,
   "metadata": {},
   "outputs": [
    {
     "output_type": "execute_result",
     "data": {
      "text/plain": [
       "count    90.000000\n",
       "mean      2.505287\n",
       "std       2.248824\n",
       "min       0.005382\n",
       "25%       0.699730\n",
       "50%       1.822480\n",
       "75%       3.880308\n",
       "max       8.514772\n",
       "dtype: float64"
      ]
     },
     "metadata": {},
     "execution_count": 35
    }
   ],
   "source": [
    "series6.describe()"
   ]
  },
  {
   "cell_type": "code",
   "execution_count": 58,
   "metadata": {},
   "outputs": [
    {
     "output_type": "execute_result",
     "data": {
      "text/plain": [
       "DatetimeIndex(['2021-07-12 20:33:51.652996', '2021-07-13 20:33:51.652995',\n",
       "               '2021-07-14 20:33:51.652994', '2021-07-15 20:33:51.652992',\n",
       "               '2021-07-16 20:33:51.652991', '2021-07-17 20:33:51.652990',\n",
       "               '2021-07-18 20:33:51.652989', '2021-07-19 20:33:51.652987',\n",
       "               '2021-07-20 20:33:51.652986', '2021-07-21 20:33:51.652985',\n",
       "               '2021-07-22 20:33:51.652984', '2021-07-23 20:33:51.652982',\n",
       "               '2021-07-24 20:33:51.652980', '2021-07-25 20:33:51.652979',\n",
       "               '2021-07-26 20:33:51.652978', '2021-07-27 20:33:51.652977',\n",
       "               '2021-07-28 20:33:51.652975', '2021-07-29 20:33:51.652974',\n",
       "               '2021-07-30 20:33:51.652973', '2021-07-31 20:33:51.652972',\n",
       "               '2021-08-01 20:33:51.652970', '2021-08-02 20:33:51.652969',\n",
       "               '2021-08-03 20:33:51.652968', '2021-08-04 20:33:51.652967',\n",
       "               '2021-08-05 20:33:51.652965', '2021-08-06 20:33:51.652964',\n",
       "               '2021-08-07 20:33:51.652963', '2021-08-08 20:33:51.652960',\n",
       "               '2021-08-09 20:33:51.652958', '2021-08-10 20:33:51.652957',\n",
       "               '2021-08-11 20:33:51.652956', '2021-08-12 20:33:51.652955',\n",
       "               '2021-08-13 20:33:51.652954', '2021-08-14 20:33:51.652952',\n",
       "               '2021-08-15 20:33:51.652951', '2021-08-16 20:33:51.652950',\n",
       "               '2021-08-17 20:33:51.652949', '2021-08-18 20:33:51.652947',\n",
       "               '2021-08-19 20:33:51.652946', '2021-08-20 20:33:51.652945',\n",
       "               '2021-08-21 20:33:51.652944', '2021-08-22 20:33:51.652942',\n",
       "               '2021-08-23 20:33:51.652940', '2021-08-24 20:33:51.652939',\n",
       "               '2021-08-25 20:33:51.652938', '2021-08-26 20:33:51.652937',\n",
       "               '2021-08-27 20:33:51.652935', '2021-08-28 20:33:51.652934',\n",
       "               '2021-08-29 20:33:51.652933', '2021-08-30 20:33:51.652931',\n",
       "               '2021-08-31 20:33:51.652930', '2021-09-01 20:33:51.652929',\n",
       "               '2021-09-02 20:33:51.652928', '2021-09-03 20:33:51.652926',\n",
       "               '2021-09-04 20:33:51.652925', '2021-09-05 20:33:51.652924',\n",
       "               '2021-09-06 20:33:51.652922', '2021-09-07 20:33:51.652921',\n",
       "               '2021-09-08 20:33:51.652920', '2021-09-09 20:33:51.652918',\n",
       "               '2021-09-10 20:33:51.652917', '2021-09-11 20:33:51.652916',\n",
       "               '2021-09-12 20:33:51.652914', '2021-09-13 20:33:51.652913',\n",
       "               '2021-09-14 20:33:51.652911', '2021-09-15 20:33:51.652910',\n",
       "               '2021-09-16 20:33:51.652908', '2021-09-17 20:33:51.652907',\n",
       "               '2021-09-18 20:33:51.652906', '2021-09-19 20:33:51.652904',\n",
       "               '2021-09-20 20:33:51.652903', '2021-09-21 20:33:51.652902',\n",
       "               '2021-09-22 20:33:51.652900', '2021-09-23 20:33:51.652899',\n",
       "               '2021-09-24 20:33:51.652898', '2021-09-25 20:33:51.652896',\n",
       "               '2021-09-26 20:33:51.652895', '2021-09-27 20:33:51.652894',\n",
       "               '2021-09-28 20:33:51.652893', '2021-09-29 20:33:51.652891',\n",
       "               '2021-09-30 20:33:51.652890', '2021-10-01 20:33:51.652889',\n",
       "               '2021-10-02 20:33:51.652888', '2021-10-03 20:33:51.652886',\n",
       "               '2021-10-04 20:33:51.652885', '2021-10-05 20:33:51.652884',\n",
       "               '2021-10-06 20:33:51.652883', '2021-10-07 20:33:51.652882',\n",
       "               '2021-10-08 20:33:51.652880', '2021-10-09 20:33:51.652879',\n",
       "               '2021-10-10 20:33:51.652878', '2021-10-11 20:33:51.652876',\n",
       "               '2021-10-12 20:33:51.652875', '2021-10-13 20:33:51.652874',\n",
       "               '2021-10-14 20:33:51.652872', '2021-10-15 20:33:51.652871',\n",
       "               '2021-10-16 20:33:51.652870', '2021-10-17 20:33:51.652868',\n",
       "               '2021-10-18 20:33:51.652866', '2021-10-19 20:33:51.652856'],\n",
       "              dtype='datetime64[ns]', freq=None)"
      ]
     },
     "metadata": {},
     "execution_count": 58
    }
   ],
   "source": [
    "series6.index"
   ]
  },
  {
   "cell_type": "code",
   "execution_count": 38,
   "metadata": {},
   "outputs": [
    {
     "output_type": "execute_result",
     "data": {
      "text/plain": [
       "       year   state  pop\n",
       "one    2000    Ohio  1.5\n",
       "two    2001    Ohio  1.7\n",
       "three  2002    Ohio  3.6\n",
       "four   2001  Nevada  2.4\n",
       "five   2002  Nevada  2.9"
      ],
      "text/html": "<div>\n<style scoped>\n    .dataframe tbody tr th:only-of-type {\n        vertical-align: middle;\n    }\n\n    .dataframe tbody tr th {\n        vertical-align: top;\n    }\n\n    .dataframe thead th {\n        text-align: right;\n    }\n</style>\n<table border=\"1\" class=\"dataframe\">\n  <thead>\n    <tr style=\"text-align: right;\">\n      <th></th>\n      <th>year</th>\n      <th>state</th>\n      <th>pop</th>\n    </tr>\n  </thead>\n  <tbody>\n    <tr>\n      <th>one</th>\n      <td>2000</td>\n      <td>Ohio</td>\n      <td>1.5</td>\n    </tr>\n    <tr>\n      <th>two</th>\n      <td>2001</td>\n      <td>Ohio</td>\n      <td>1.7</td>\n    </tr>\n    <tr>\n      <th>three</th>\n      <td>2002</td>\n      <td>Ohio</td>\n      <td>3.6</td>\n    </tr>\n    <tr>\n      <th>four</th>\n      <td>2001</td>\n      <td>Nevada</td>\n      <td>2.4</td>\n    </tr>\n    <tr>\n      <th>five</th>\n      <td>2002</td>\n      <td>Nevada</td>\n      <td>2.9</td>\n    </tr>\n  </tbody>\n</table>\n</div>"
     },
     "metadata": {},
     "execution_count": 38
    }
   ],
   "source": [
    "data = {\n",
    "    'state': ['Ohio', 'Ohio', 'Ohio', 'Nevada', 'Nevada'],\n",
    "    'year': [2000, 2001, 2002, 2001, 2002],\n",
    "    'pop': [1.5, 1.7, 3.6, 2.4, 2.9]\n",
    "}\n",
    "df1 = pd.DataFrame(data, columns=['year', 'state', 'pop'], index=['one', 'two', 'three', 'four', 'five'])\n",
    "df1 "
   ]
  },
  {
   "cell_type": "code",
   "execution_count": 47,
   "metadata": {},
   "outputs": [
    {
     "output_type": "execute_result",
     "data": {
      "text/plain": [
       "       year   state  pop      debt\n",
       "one    2000    Ohio  1.5  0.103271\n",
       "two    2001    Ohio  1.7  0.869088\n",
       "three  2002    Ohio  3.6  0.149563\n",
       "four   2001  Nevada  2.4  0.196097\n",
       "five   2002  Nevada  2.9  0.852513"
      ],
      "text/html": "<div>\n<style scoped>\n    .dataframe tbody tr th:only-of-type {\n        vertical-align: middle;\n    }\n\n    .dataframe tbody tr th {\n        vertical-align: top;\n    }\n\n    .dataframe thead th {\n        text-align: right;\n    }\n</style>\n<table border=\"1\" class=\"dataframe\">\n  <thead>\n    <tr style=\"text-align: right;\">\n      <th></th>\n      <th>year</th>\n      <th>state</th>\n      <th>pop</th>\n      <th>debt</th>\n    </tr>\n  </thead>\n  <tbody>\n    <tr>\n      <th>one</th>\n      <td>2000</td>\n      <td>Ohio</td>\n      <td>1.5</td>\n      <td>0.103271</td>\n    </tr>\n    <tr>\n      <th>two</th>\n      <td>2001</td>\n      <td>Ohio</td>\n      <td>1.7</td>\n      <td>0.869088</td>\n    </tr>\n    <tr>\n      <th>three</th>\n      <td>2002</td>\n      <td>Ohio</td>\n      <td>3.6</td>\n      <td>0.149563</td>\n    </tr>\n    <tr>\n      <th>four</th>\n      <td>2001</td>\n      <td>Nevada</td>\n      <td>2.4</td>\n      <td>0.196097</td>\n    </tr>\n    <tr>\n      <th>five</th>\n      <td>2002</td>\n      <td>Nevada</td>\n      <td>2.9</td>\n      <td>0.852513</td>\n    </tr>\n  </tbody>\n</table>\n</div>"
     },
     "metadata": {},
     "execution_count": 47
    }
   ],
   "source": [
    "df1['debt'] = values[:5]\n",
    "df1"
   ]
  },
  {
   "cell_type": "code",
   "execution_count": 50,
   "metadata": {},
   "outputs": [
    {
     "output_type": "execute_result",
     "data": {
      "text/plain": [
       "       year   state  pop      debt\n",
       "one    2000    Ohio  1.5       NaN\n",
       "two    2001    Ohio  1.7  6.859105\n",
       "three  2002    Ohio  3.6       NaN\n",
       "four   2001  Nevada  2.4  0.613921\n",
       "five   2002  Nevada  2.9  0.212662"
      ],
      "text/html": "<div>\n<style scoped>\n    .dataframe tbody tr th:only-of-type {\n        vertical-align: middle;\n    }\n\n    .dataframe tbody tr th {\n        vertical-align: top;\n    }\n\n    .dataframe thead th {\n        text-align: right;\n    }\n</style>\n<table border=\"1\" class=\"dataframe\">\n  <thead>\n    <tr style=\"text-align: right;\">\n      <th></th>\n      <th>year</th>\n      <th>state</th>\n      <th>pop</th>\n      <th>debt</th>\n    </tr>\n  </thead>\n  <tbody>\n    <tr>\n      <th>one</th>\n      <td>2000</td>\n      <td>Ohio</td>\n      <td>1.5</td>\n      <td>NaN</td>\n    </tr>\n    <tr>\n      <th>two</th>\n      <td>2001</td>\n      <td>Ohio</td>\n      <td>1.7</td>\n      <td>6.859105</td>\n    </tr>\n    <tr>\n      <th>three</th>\n      <td>2002</td>\n      <td>Ohio</td>\n      <td>3.6</td>\n      <td>NaN</td>\n    </tr>\n    <tr>\n      <th>four</th>\n      <td>2001</td>\n      <td>Nevada</td>\n      <td>2.4</td>\n      <td>0.613921</td>\n    </tr>\n    <tr>\n      <th>five</th>\n      <td>2002</td>\n      <td>Nevada</td>\n      <td>2.9</td>\n      <td>0.212662</td>\n    </tr>\n  </tbody>\n</table>\n</div>"
     },
     "metadata": {},
     "execution_count": 50
    }
   ],
   "source": [
    "series7 = pd.Series(other_values[:4], index=['two', 'four', 'five', 'six'])\n",
    "df1['debt'] = series7\n",
    "df1"
   ]
  },
  {
   "cell_type": "code",
   "execution_count": 55,
   "metadata": {},
   "outputs": [
    {
     "output_type": "execute_result",
     "data": {
      "text/plain": [
       "two     6.859105\n",
       "four    0.613921\n",
       "Name: debt, dtype: float64"
      ]
     },
     "metadata": {},
     "execution_count": 55
    }
   ],
   "source": [
    "df1[df1['debt'] > 0.3]"
   ]
  },
  {
   "cell_type": "code",
   "execution_count": 57,
   "metadata": {},
   "outputs": [
    {
     "output_type": "execute_result",
     "data": {
      "text/plain": [
       "year     2000\n",
       "state    Ohio\n",
       "pop       1.5\n",
       "debt      NaN\n",
       "Name: one, dtype: object"
      ]
     },
     "metadata": {},
     "execution_count": 57
    }
   ],
   "source": [
    "df1.T['one']"
   ]
  },
  {
   "cell_type": "code",
   "execution_count": 63,
   "metadata": {},
   "outputs": [
    {
     "output_type": "execute_result",
     "data": {
      "text/plain": [
       "       year   state  pop      debt\n",
       "one    2000    Ohio  1.5       NaN\n",
       "two    2001    Ohio  1.7  6.859105\n",
       "three  2002    Ohio  3.6       NaN\n",
       "four   2001  Nevada  2.4  0.613921\n",
       "five   2002  Nevada  2.9  0.212662\n",
       "six       0       0  0.0  0.000000\n",
       "seven     0       0  0.0  0.000000"
      ],
      "text/html": "<div>\n<style scoped>\n    .dataframe tbody tr th:only-of-type {\n        vertical-align: middle;\n    }\n\n    .dataframe tbody tr th {\n        vertical-align: top;\n    }\n\n    .dataframe thead th {\n        text-align: right;\n    }\n</style>\n<table border=\"1\" class=\"dataframe\">\n  <thead>\n    <tr style=\"text-align: right;\">\n      <th></th>\n      <th>year</th>\n      <th>state</th>\n      <th>pop</th>\n      <th>debt</th>\n    </tr>\n  </thead>\n  <tbody>\n    <tr>\n      <th>one</th>\n      <td>2000</td>\n      <td>Ohio</td>\n      <td>1.5</td>\n      <td>NaN</td>\n    </tr>\n    <tr>\n      <th>two</th>\n      <td>2001</td>\n      <td>Ohio</td>\n      <td>1.7</td>\n      <td>6.859105</td>\n    </tr>\n    <tr>\n      <th>three</th>\n      <td>2002</td>\n      <td>Ohio</td>\n      <td>3.6</td>\n      <td>NaN</td>\n    </tr>\n    <tr>\n      <th>four</th>\n      <td>2001</td>\n      <td>Nevada</td>\n      <td>2.4</td>\n      <td>0.613921</td>\n    </tr>\n    <tr>\n      <th>five</th>\n      <td>2002</td>\n      <td>Nevada</td>\n      <td>2.9</td>\n      <td>0.212662</td>\n    </tr>\n    <tr>\n      <th>six</th>\n      <td>0</td>\n      <td>0</td>\n      <td>0.0</td>\n      <td>0.000000</td>\n    </tr>\n    <tr>\n      <th>seven</th>\n      <td>0</td>\n      <td>0</td>\n      <td>0.0</td>\n      <td>0.000000</td>\n    </tr>\n  </tbody>\n</table>\n</div>"
     },
     "metadata": {},
     "execution_count": 63
    }
   ],
   "source": [
    "df2 = df1.reindex(['one', 'two', 'three', 'four', 'five', 'six', 'seven'], fill_value=0)\n",
    "df2"
   ]
  },
  {
   "cell_type": "code",
   "execution_count": 74,
   "metadata": {},
   "outputs": [],
   "source": [
    "df2['col'] = 3"
   ]
  },
  {
   "cell_type": "code",
   "execution_count": 79,
   "metadata": {},
   "outputs": [
    {
     "output_type": "execute_result",
     "data": {
      "text/plain": [
       "       col       debt  pop         state    year\n",
       "five   3.9   0.425324  5.8  NevadaNevada  4004.0\n",
       "four   3.9   1.227843  4.8  NevadaNevada  4002.0\n",
       "one    3.9        NaN  3.0      OhioOhio  4000.0\n",
       "seven  3.9   0.900000  0.9           0.9     0.9\n",
       "six    3.9   0.900000  0.9           0.9     0.9\n",
       "three  3.9        NaN  7.2      OhioOhio  4004.0\n",
       "two    3.9  13.718209  3.4      OhioOhio  4002.0"
      ],
      "text/html": "<div>\n<style scoped>\n    .dataframe tbody tr th:only-of-type {\n        vertical-align: middle;\n    }\n\n    .dataframe tbody tr th {\n        vertical-align: top;\n    }\n\n    .dataframe thead th {\n        text-align: right;\n    }\n</style>\n<table border=\"1\" class=\"dataframe\">\n  <thead>\n    <tr style=\"text-align: right;\">\n      <th></th>\n      <th>col</th>\n      <th>debt</th>\n      <th>pop</th>\n      <th>state</th>\n      <th>year</th>\n    </tr>\n  </thead>\n  <tbody>\n    <tr>\n      <th>five</th>\n      <td>3.9</td>\n      <td>0.425324</td>\n      <td>5.8</td>\n      <td>NevadaNevada</td>\n      <td>4004.0</td>\n    </tr>\n    <tr>\n      <th>four</th>\n      <td>3.9</td>\n      <td>1.227843</td>\n      <td>4.8</td>\n      <td>NevadaNevada</td>\n      <td>4002.0</td>\n    </tr>\n    <tr>\n      <th>one</th>\n      <td>3.9</td>\n      <td>NaN</td>\n      <td>3.0</td>\n      <td>OhioOhio</td>\n      <td>4000.0</td>\n    </tr>\n    <tr>\n      <th>seven</th>\n      <td>3.9</td>\n      <td>0.900000</td>\n      <td>0.9</td>\n      <td>0.9</td>\n      <td>0.9</td>\n    </tr>\n    <tr>\n      <th>six</th>\n      <td>3.9</td>\n      <td>0.900000</td>\n      <td>0.9</td>\n      <td>0.9</td>\n      <td>0.9</td>\n    </tr>\n    <tr>\n      <th>three</th>\n      <td>3.9</td>\n      <td>NaN</td>\n      <td>7.2</td>\n      <td>OhioOhio</td>\n      <td>4004.0</td>\n    </tr>\n    <tr>\n      <th>two</th>\n      <td>3.9</td>\n      <td>13.718209</td>\n      <td>3.4</td>\n      <td>OhioOhio</td>\n      <td>4002.0</td>\n    </tr>\n  </tbody>\n</table>\n</div>"
     },
     "metadata": {},
     "execution_count": 79
    }
   ],
   "source": [
    "df1.add(df2, fill_value=0.9) "
   ]
  },
  {
   "cell_type": "code",
   "execution_count": 85,
   "metadata": {},
   "outputs": [
    {
     "output_type": "execute_result",
     "data": {
      "text/plain": [
       "one            NaN\n",
       "two      68.591045\n",
       "three          NaN\n",
       "four      6.139214\n",
       "five      2.126621\n",
       "six       0.000000\n",
       "seven     0.000000\n",
       "Name: debt, dtype: float64"
      ]
     },
     "metadata": {},
     "execution_count": 85
    }
   ],
   "source": [
    "fill = lambda x: 10 * x if x else 0\n",
    "df2['debt'].map(fill)"
   ]
  },
  {
   "cell_type": "code",
   "execution_count": 87,
   "metadata": {},
   "outputs": [
    {
     "output_type": "execute_result",
     "data": {
      "text/plain": [
       "       col      debt  pop   state  year\n",
       "one      3       NaN  1.5    Ohio  2000\n",
       "two      3  6.859105  1.7    Ohio  2001\n",
       "three    3       NaN  3.6    Ohio  2002\n",
       "four     3  0.613921  2.4  Nevada  2001\n",
       "five     3  0.212662  2.9  Nevada  2002\n",
       "six      3  0.000000  0.0       0     0\n",
       "seven    3  0.000000  0.0       0     0"
      ],
      "text/html": "<div>\n<style scoped>\n    .dataframe tbody tr th:only-of-type {\n        vertical-align: middle;\n    }\n\n    .dataframe tbody tr th {\n        vertical-align: top;\n    }\n\n    .dataframe thead th {\n        text-align: right;\n    }\n</style>\n<table border=\"1\" class=\"dataframe\">\n  <thead>\n    <tr style=\"text-align: right;\">\n      <th></th>\n      <th>col</th>\n      <th>debt</th>\n      <th>pop</th>\n      <th>state</th>\n      <th>year</th>\n    </tr>\n  </thead>\n  <tbody>\n    <tr>\n      <th>one</th>\n      <td>3</td>\n      <td>NaN</td>\n      <td>1.5</td>\n      <td>Ohio</td>\n      <td>2000</td>\n    </tr>\n    <tr>\n      <th>two</th>\n      <td>3</td>\n      <td>6.859105</td>\n      <td>1.7</td>\n      <td>Ohio</td>\n      <td>2001</td>\n    </tr>\n    <tr>\n      <th>three</th>\n      <td>3</td>\n      <td>NaN</td>\n      <td>3.6</td>\n      <td>Ohio</td>\n      <td>2002</td>\n    </tr>\n    <tr>\n      <th>four</th>\n      <td>3</td>\n      <td>0.613921</td>\n      <td>2.4</td>\n      <td>Nevada</td>\n      <td>2001</td>\n    </tr>\n    <tr>\n      <th>five</th>\n      <td>3</td>\n      <td>0.212662</td>\n      <td>2.9</td>\n      <td>Nevada</td>\n      <td>2002</td>\n    </tr>\n    <tr>\n      <th>six</th>\n      <td>3</td>\n      <td>0.000000</td>\n      <td>0.0</td>\n      <td>0</td>\n      <td>0</td>\n    </tr>\n    <tr>\n      <th>seven</th>\n      <td>3</td>\n      <td>0.000000</td>\n      <td>0.0</td>\n      <td>0</td>\n      <td>0</td>\n    </tr>\n  </tbody>\n</table>\n</div>"
     },
     "metadata": {},
     "execution_count": 87
    }
   ],
   "source": [
    "df2.sort_index(axis=1)"
   ]
  },
  {
   "cell_type": "code",
   "execution_count": 96,
   "metadata": {},
   "outputs": [],
   "source": [
    "series9 = pd.Series([1,2,3,4], index=[1, 1, 2, 2])\n",
    "unique_index = list(set(series9.index))\n",
    "series9.index = [1, 2, 3, 4]"
   ]
  },
  {
   "cell_type": "code",
   "execution_count": 97,
   "metadata": {},
   "outputs": [
    {
     "output_type": "execute_result",
     "data": {
      "text/plain": [
       "1    1\n",
       "2    2\n",
       "3    3\n",
       "4    4\n",
       "dtype: int64"
      ]
     },
     "metadata": {},
     "execution_count": 97
    }
   ],
   "source": [
    "series9"
   ]
  },
  {
   "cell_type": "code",
   "execution_count": 105,
   "metadata": {},
   "outputs": [
    {
     "output_type": "execute_result",
     "data": {
      "text/plain": [
       "            0         1     2         3\n",
       "one      2000      Ohio   1.5       NaN\n",
       "two      2001       1.7  Ohio  6.859105\n",
       "three    Ohio      2002   3.6       NaN\n",
       "four   Nevada      2001   2.4  0.613921\n",
       "five   Nevada  0.212662  2002  2.900000"
      ],
      "text/html": "<div>\n<style scoped>\n    .dataframe tbody tr th:only-of-type {\n        vertical-align: middle;\n    }\n\n    .dataframe tbody tr th {\n        vertical-align: top;\n    }\n\n    .dataframe thead th {\n        text-align: right;\n    }\n</style>\n<table border=\"1\" class=\"dataframe\">\n  <thead>\n    <tr style=\"text-align: right;\">\n      <th></th>\n      <th>0</th>\n      <th>1</th>\n      <th>2</th>\n      <th>3</th>\n    </tr>\n  </thead>\n  <tbody>\n    <tr>\n      <th>one</th>\n      <td>2000</td>\n      <td>Ohio</td>\n      <td>1.5</td>\n      <td>NaN</td>\n    </tr>\n    <tr>\n      <th>two</th>\n      <td>2001</td>\n      <td>1.7</td>\n      <td>Ohio</td>\n      <td>6.859105</td>\n    </tr>\n    <tr>\n      <th>three</th>\n      <td>Ohio</td>\n      <td>2002</td>\n      <td>3.6</td>\n      <td>NaN</td>\n    </tr>\n    <tr>\n      <th>four</th>\n      <td>Nevada</td>\n      <td>2001</td>\n      <td>2.4</td>\n      <td>0.613921</td>\n    </tr>\n    <tr>\n      <th>five</th>\n      <td>Nevada</td>\n      <td>0.212662</td>\n      <td>2002</td>\n      <td>2.900000</td>\n    </tr>\n  </tbody>\n</table>\n</div>"
     },
     "metadata": {},
     "execution_count": 105
    }
   ],
   "source": [
    "df1.mode(axis=1)"
   ]
  },
  {
   "cell_type": "code",
   "execution_count": 118,
   "metadata": {},
   "outputs": [
    {
     "output_type": "execute_result",
     "data": {
      "text/plain": [
       "         year   state  pop      debt\n",
       "one    2001.5    Ohio  1.5  2.561896\n",
       "two    2001.0    Ohio  1.7  6.859105\n",
       "three  2002.0    Ohio  3.6  2.561896\n",
       "four   2001.0  Nevada  2.4  0.613921\n",
       "five   2002.0  Nevada  2.9  0.212662"
      ],
      "text/html": "<div>\n<style scoped>\n    .dataframe tbody tr th:only-of-type {\n        vertical-align: middle;\n    }\n\n    .dataframe tbody tr th {\n        vertical-align: top;\n    }\n\n    .dataframe thead th {\n        text-align: right;\n    }\n</style>\n<table border=\"1\" class=\"dataframe\">\n  <thead>\n    <tr style=\"text-align: right;\">\n      <th></th>\n      <th>year</th>\n      <th>state</th>\n      <th>pop</th>\n      <th>debt</th>\n    </tr>\n  </thead>\n  <tbody>\n    <tr>\n      <th>one</th>\n      <td>2001.5</td>\n      <td>Ohio</td>\n      <td>1.5</td>\n      <td>2.561896</td>\n    </tr>\n    <tr>\n      <th>two</th>\n      <td>2001.0</td>\n      <td>Ohio</td>\n      <td>1.7</td>\n      <td>6.859105</td>\n    </tr>\n    <tr>\n      <th>three</th>\n      <td>2002.0</td>\n      <td>Ohio</td>\n      <td>3.6</td>\n      <td>2.561896</td>\n    </tr>\n    <tr>\n      <th>four</th>\n      <td>2001.0</td>\n      <td>Nevada</td>\n      <td>2.4</td>\n      <td>0.613921</td>\n    </tr>\n    <tr>\n      <th>five</th>\n      <td>2002.0</td>\n      <td>Nevada</td>\n      <td>2.9</td>\n      <td>0.212662</td>\n    </tr>\n  </tbody>\n</table>\n</div>"
     },
     "metadata": {},
     "execution_count": 118
    }
   ],
   "source": [
    "df1['year'][\"one\"] = None\n",
    "df1.fillna({'year': df1['year'].median(), 'debt': df1['debt'].mean(skipna=True)})"
   ]
  },
  {
   "cell_type": "code",
   "execution_count": 117,
   "metadata": {},
   "outputs": [
    {
     "output_type": "execute_result",
     "data": {
      "text/plain": [
       "2001.5"
      ]
     },
     "metadata": {},
     "execution_count": 117
    }
   ],
   "source": [
    "df1['year'].median()"
   ]
  },
  {
   "cell_type": "code",
   "execution_count": 133,
   "metadata": {},
   "outputs": [],
   "source": [
    "df1[df1['year'] == 2001] = 2009"
   ]
  },
  {
   "cell_type": "code",
   "execution_count": 134,
   "metadata": {},
   "outputs": [
    {
     "output_type": "execute_result",
     "data": {
      "text/plain": [
       "         year state     pop    debt\n",
       "one       NaN  Ohio     1.5     NaN\n",
       "two    2009.0  2009  2009.0  2009.0\n",
       "three  2006.0  2006  2006.0  2006.0\n",
       "four   2009.0  2009  2009.0  2009.0\n",
       "five   2006.0  2006  2006.0  2006.0"
      ],
      "text/html": "<div>\n<style scoped>\n    .dataframe tbody tr th:only-of-type {\n        vertical-align: middle;\n    }\n\n    .dataframe tbody tr th {\n        vertical-align: top;\n    }\n\n    .dataframe thead th {\n        text-align: right;\n    }\n</style>\n<table border=\"1\" class=\"dataframe\">\n  <thead>\n    <tr style=\"text-align: right;\">\n      <th></th>\n      <th>year</th>\n      <th>state</th>\n      <th>pop</th>\n      <th>debt</th>\n    </tr>\n  </thead>\n  <tbody>\n    <tr>\n      <th>one</th>\n      <td>NaN</td>\n      <td>Ohio</td>\n      <td>1.5</td>\n      <td>NaN</td>\n    </tr>\n    <tr>\n      <th>two</th>\n      <td>2009.0</td>\n      <td>2009</td>\n      <td>2009.0</td>\n      <td>2009.0</td>\n    </tr>\n    <tr>\n      <th>three</th>\n      <td>2006.0</td>\n      <td>2006</td>\n      <td>2006.0</td>\n      <td>2006.0</td>\n    </tr>\n    <tr>\n      <th>four</th>\n      <td>2009.0</td>\n      <td>2009</td>\n      <td>2009.0</td>\n      <td>2009.0</td>\n    </tr>\n    <tr>\n      <th>five</th>\n      <td>2006.0</td>\n      <td>2006</td>\n      <td>2006.0</td>\n      <td>2006.0</td>\n    </tr>\n  </tbody>\n</table>\n</div>"
     },
     "metadata": {},
     "execution_count": 134
    }
   ],
   "source": [
    "df1"
   ]
  },
  {
   "cell_type": "code",
   "execution_count": 135,
   "metadata": {},
   "outputs": [
    {
     "output_type": "execute_result",
     "data": {
      "text/plain": [
       "                0\n",
       "count  100.000000\n",
       "mean     4.458787\n",
       "std      2.916655\n",
       "min      0.038143\n",
       "25%      2.040745\n",
       "50%      3.817667\n",
       "75%      6.889312\n",
       "max      9.934940"
      ],
      "text/html": "<div>\n<style scoped>\n    .dataframe tbody tr th:only-of-type {\n        vertical-align: middle;\n    }\n\n    .dataframe tbody tr th {\n        vertical-align: top;\n    }\n\n    .dataframe thead th {\n        text-align: right;\n    }\n</style>\n<table border=\"1\" class=\"dataframe\">\n  <thead>\n    <tr style=\"text-align: right;\">\n      <th></th>\n      <th>0</th>\n    </tr>\n  </thead>\n  <tbody>\n    <tr>\n      <th>count</th>\n      <td>100.000000</td>\n    </tr>\n    <tr>\n      <th>mean</th>\n      <td>4.458787</td>\n    </tr>\n    <tr>\n      <th>std</th>\n      <td>2.916655</td>\n    </tr>\n    <tr>\n      <th>min</th>\n      <td>0.038143</td>\n    </tr>\n    <tr>\n      <th>25%</th>\n      <td>2.040745</td>\n    </tr>\n    <tr>\n      <th>50%</th>\n      <td>3.817667</td>\n    </tr>\n    <tr>\n      <th>75%</th>\n      <td>6.889312</td>\n    </tr>\n    <tr>\n      <th>max</th>\n      <td>9.934940</td>\n    </tr>\n  </tbody>\n</table>\n</div>"
     },
     "metadata": {},
     "execution_count": 135
    }
   ],
   "source": [
    "df3 = pd.DataFrame(other_values)\n",
    "df3.describe()"
   ]
  },
  {
   "cell_type": "code",
   "execution_count": 138,
   "metadata": {},
   "outputs": [
    {
     "output_type": "execute_result",
     "data": {
      "text/plain": [
       "               0\n",
       "count  76.000000\n",
       "mean    3.215766\n",
       "std     2.117926\n",
       "min     0.038143\n",
       "25%     1.376035\n",
       "50%     2.764349\n",
       "75%     5.109941\n",
       "max     6.970710"
      ],
      "text/html": "<div>\n<style scoped>\n    .dataframe tbody tr th:only-of-type {\n        vertical-align: middle;\n    }\n\n    .dataframe tbody tr th {\n        vertical-align: top;\n    }\n\n    .dataframe thead th {\n        text-align: right;\n    }\n</style>\n<table border=\"1\" class=\"dataframe\">\n  <thead>\n    <tr style=\"text-align: right;\">\n      <th></th>\n      <th>0</th>\n    </tr>\n  </thead>\n  <tbody>\n    <tr>\n      <th>count</th>\n      <td>76.000000</td>\n    </tr>\n    <tr>\n      <th>mean</th>\n      <td>3.215766</td>\n    </tr>\n    <tr>\n      <th>std</th>\n      <td>2.117926</td>\n    </tr>\n    <tr>\n      <th>min</th>\n      <td>0.038143</td>\n    </tr>\n    <tr>\n      <th>25%</th>\n      <td>1.376035</td>\n    </tr>\n    <tr>\n      <th>50%</th>\n      <td>2.764349</td>\n    </tr>\n    <tr>\n      <th>75%</th>\n      <td>5.109941</td>\n    </tr>\n    <tr>\n      <th>max</th>\n      <td>6.970710</td>\n    </tr>\n  </tbody>\n</table>\n</div>"
     },
     "metadata": {},
     "execution_count": 138
    }
   ],
   "source": [
    "df4 = df3[df3 < 7]\n",
    "df4.describe()"
   ]
  },
  {
   "cell_type": "code",
   "execution_count": 139,
   "metadata": {},
   "outputs": [],
   "source": [
    "import numpy as np"
   ]
  },
  {
   "cell_type": "code",
   "execution_count": 140,
   "metadata": {},
   "outputs": [],
   "source": [
    "df5 = pd.DataFrame(np.arange(5 * 4).reshape(5, 4))"
   ]
  },
  {
   "cell_type": "code",
   "execution_count": 144,
   "metadata": {},
   "outputs": [
    {
     "output_type": "execute_result",
     "data": {
      "text/plain": [
       "    0   1   2   3\n",
       "2   8   9  10  11\n",
       "4  16  17  18  19\n",
       "0   0   1   2   3\n",
       "3  12  13  14  15\n",
       "1   4   5   6   7"
      ],
      "text/html": "<div>\n<style scoped>\n    .dataframe tbody tr th:only-of-type {\n        vertical-align: middle;\n    }\n\n    .dataframe tbody tr th {\n        vertical-align: top;\n    }\n\n    .dataframe thead th {\n        text-align: right;\n    }\n</style>\n<table border=\"1\" class=\"dataframe\">\n  <thead>\n    <tr style=\"text-align: right;\">\n      <th></th>\n      <th>0</th>\n      <th>1</th>\n      <th>2</th>\n      <th>3</th>\n    </tr>\n  </thead>\n  <tbody>\n    <tr>\n      <th>2</th>\n      <td>8</td>\n      <td>9</td>\n      <td>10</td>\n      <td>11</td>\n    </tr>\n    <tr>\n      <th>4</th>\n      <td>16</td>\n      <td>17</td>\n      <td>18</td>\n      <td>19</td>\n    </tr>\n    <tr>\n      <th>0</th>\n      <td>0</td>\n      <td>1</td>\n      <td>2</td>\n      <td>3</td>\n    </tr>\n    <tr>\n      <th>3</th>\n      <td>12</td>\n      <td>13</td>\n      <td>14</td>\n      <td>15</td>\n    </tr>\n    <tr>\n      <th>1</th>\n      <td>4</td>\n      <td>5</td>\n      <td>6</td>\n      <td>7</td>\n    </tr>\n  </tbody>\n</table>\n</div>"
     },
     "metadata": {},
     "execution_count": 144
    }
   ],
   "source": [
    "sampler = np.random.permutation(5)\n",
    "df5.take(sampler)"
   ]
  },
  {
   "cell_type": "code",
   "execution_count": 150,
   "metadata": {},
   "outputs": [
    {
     "output_type": "execute_result",
     "data": {
      "text/plain": [
       "    1   1\n",
       "0   1   1\n",
       "1   5   5\n",
       "2   9   9\n",
       "3  13  13\n",
       "4  17  17"
      ],
      "text/html": "<div>\n<style scoped>\n    .dataframe tbody tr th:only-of-type {\n        vertical-align: middle;\n    }\n\n    .dataframe tbody tr th {\n        vertical-align: top;\n    }\n\n    .dataframe thead th {\n        text-align: right;\n    }\n</style>\n<table border=\"1\" class=\"dataframe\">\n  <thead>\n    <tr style=\"text-align: right;\">\n      <th></th>\n      <th>1</th>\n      <th>1</th>\n    </tr>\n  </thead>\n  <tbody>\n    <tr>\n      <th>0</th>\n      <td>1</td>\n      <td>1</td>\n    </tr>\n    <tr>\n      <th>1</th>\n      <td>5</td>\n      <td>5</td>\n    </tr>\n    <tr>\n      <th>2</th>\n      <td>9</td>\n      <td>9</td>\n    </tr>\n    <tr>\n      <th>3</th>\n      <td>13</td>\n      <td>13</td>\n    </tr>\n    <tr>\n      <th>4</th>\n      <td>17</td>\n      <td>17</td>\n    </tr>\n  </tbody>\n</table>\n</div>"
     },
     "metadata": {},
     "execution_count": 150
    }
   ],
   "source": [
    "rand_sample = np.random.choice(df5.index, 2)\n",
    "df5[rand_sample]"
   ]
  },
  {
   "cell_type": "code",
   "execution_count": 151,
   "metadata": {},
   "outputs": [
    {
     "output_type": "execute_result",
     "data": {
      "text/plain": [
       "array([1, 1])"
      ]
     },
     "metadata": {},
     "execution_count": 151
    }
   ],
   "source": [
    "rand_sample"
   ]
  },
  {
   "cell_type": "code",
   "execution_count": null,
   "metadata": {},
   "outputs": [],
   "source": []
  }
 ]
}