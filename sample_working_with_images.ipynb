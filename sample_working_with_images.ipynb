{
 "metadata": {
  "language_info": {
   "codemirror_mode": {
    "name": "ipython",
    "version": 3
   },
   "file_extension": ".py",
   "mimetype": "text/x-python",
   "name": "python",
   "nbconvert_exporter": "python",
   "pygments_lexer": "ipython3",
   "version": "3.8.3-final"
  },
  "orig_nbformat": 2,
  "kernelspec": {
   "name": "python3",
   "display_name": "Python 3.8.3 64-bit ('base': conda)",
   "metadata": {
    "interpreter": {
     "hash": "dca0ade3e726a953b501b15e8e990130d2b7799f14cfd9f4271676035ebe5511"
    }
   }
  }
 },
 "nbformat": 4,
 "nbformat_minor": 2,
 "cells": [
  {
   "cell_type": "code",
   "execution_count": 8,
   "metadata": {},
   "outputs": [
    {
     "output_type": "execute_result",
     "data": {
      "text/plain": [
       "((408, 612, 3), (408, 612))"
      ]
     },
     "metadata": {},
     "execution_count": 8
    }
   ],
   "source": [
    "from PIL import Image \n",
    "import numpy as np \n",
    "\n",
    "filename = 'cat1.jpg'\n",
    "im = Image.open(filename)\n",
    "im_gray = im.convert('L')\n",
    "im_arr = np.asarray(im)\n",
    "im_arr_gray = np.asarray(im_gray)\n",
    "im_arr.shape, im_arr_gray.shape"
   ]
  },
  {
   "cell_type": "code",
   "execution_count": 12,
   "metadata": {},
   "outputs": [
    {
     "output_type": "execute_result",
     "data": {
      "text/plain": [
       "array([[255, 255, 255, ..., 255, 255, 255],\n",
       "       [255, 255, 255, ..., 255, 255, 255],\n",
       "       [255, 255, 255, ..., 255, 255, 255],\n",
       "       ...,\n",
       "       [255, 255, 255, ..., 255, 255, 255],\n",
       "       [255, 255, 255, ..., 255, 255, 255],\n",
       "       [255, 255, 255, ..., 255, 255, 255]], dtype=uint8)"
      ]
     },
     "metadata": {},
     "execution_count": 12
    }
   ],
   "source": [
    "im_arr_gray"
   ]
  },
  {
   "cell_type": "code",
   "execution_count": null,
   "metadata": {},
   "outputs": [],
   "source": [
    "import os \n",
    "\n",
    "def load_image(filepath):\n",
    "    im = Image.load(filepath)\n",
    "    arr = np.asarray(im)\n",
    "    return arr\n",
    "\n",
    "def load_images(directory):\n",
    "    files = os.listdir(directory)\n",
    "    images = []\n",
    "    for filename in files:\n",
    "        filepath = f\"{directory}/{filename}\"\n",
    "        try:\n",
    "            image = load_image(filepath)\n",
    "            images.append(image)\n",
    "        except Exception as e:\n",
    "            print(f\"--Failed to load file: {filename}\")\n",
    "    return images"
   ]
  }
 ]
}