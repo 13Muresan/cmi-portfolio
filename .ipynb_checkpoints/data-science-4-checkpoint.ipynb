{
 "cells": [
  {
   "cell_type": "code",
   "execution_count": 47,
   "metadata": {},
   "outputs": [],
   "source": [
    "from sklearn.linear_model import LinearRegression, Ridge\n",
    "from sklearn.metrics import mean_squared_error"
   ]
  },
  {
   "cell_type": "code",
   "execution_count": 3,
   "metadata": {},
   "outputs": [],
   "source": [
    "class Regressor:\n",
    "    \n",
    "    def __init__(self, X, y):\n",
    "        self.X = X\n",
    "        self.y = y\n",
    "        self.reg = {\n",
    "            \"reg1\": None,\n",
    "            \"reg2\": None\n",
    "        }\n",
    "        \n",
    "    def fit(self):\n",
    "        reg1 = LinearRegression()\n",
    "        reg1 = reg1.fit(self.X, self.y)\n",
    "        reg2 = Ridge()\n",
    "        reg2 = reg2.fit(self.X, self.y)\n",
    "        self.reg[\"reg1\"] = reg1\n",
    "        self.reg[\"reg2\"] = reg2\n",
    "    \n",
    "    def predict(self, X):\n",
    "        pred1 = self.reg[\"reg1\"].predict(X)\n",
    "        pred2 = self.reg[\"reg2\"].predict(X)\n",
    "        return (pred1 + pred2) / 2"
   ]
  },
  {
   "cell_type": "code",
   "execution_count": 7,
   "metadata": {},
   "outputs": [
    {
     "name": "stdout",
     "output_type": "stream",
     "text": [
      "Real value: [151.  75.]. Predicted value: [194.39532161  79.53568745]\n"
     ]
    }
   ],
   "source": [
    "from sklearn.datasets import load_diabetes\n",
    "diabetes = load_diabetes()\n",
    "X, y = diabetes.data, diabetes.target\n",
    "\n",
    "reg = Regressor(X, y)\n",
    "reg.fit()\n",
    "\n",
    "X_pred = [X[0],X[1]]\n",
    "y_pred = reg.predict(X_pred)\n",
    "\n",
    "print(f\"Real value: {y[0:2]}. Predicted value: {y_pred[0:]}\")"
   ]
  },
  {
   "cell_type": "code",
   "execution_count": 8,
   "metadata": {},
   "outputs": [
    {
     "data": {
      "text/plain": [
       "array([206.11706979,  68.07234761])"
      ]
     },
     "execution_count": 8,
     "metadata": {},
     "output_type": "execute_result"
    }
   ],
   "source": [
    "reg.reg[\"reg1\"].predict(X_pred)"
   ]
  },
  {
   "cell_type": "code",
   "execution_count": 9,
   "metadata": {},
   "outputs": [
    {
     "data": {
      "text/plain": [
       "array([182.67357343,  90.99902729])"
      ]
     },
     "execution_count": 9,
     "metadata": {},
     "output_type": "execute_result"
    }
   ],
   "source": [
    "reg.reg[\"reg2\"].predict(X_pred)"
   ]
  },
  {
   "cell_type": "code",
   "execution_count": 53,
   "metadata": {},
   "outputs": [],
   "source": [
    "from sklearn.model_selection import train_test_split\n",
    "from numpy import asarray\n",
    "import pandas as pd\n",
    "X_train, X_test, y_train, y_test = train_test_split(X, y, test_size=0.2)\n",
    "\n",
    "# train data\n",
    "X0_train = pd.DataFrame(X_train[:, 0], columns=['x'])\n",
    "X1_train = pd.DataFrame(columns=['x', 'x2'])\n",
    "X1_train['x'] = X_train[:, 0]\n",
    "X1_train['x2'] = X_train[:, 0]**2\n",
    "X2_train = pd.DataFrame(columns=['x', 'x2', 'x3'])\n",
    "X2_train['x'] = X_train[:, 0]\n",
    "X2_train['x2'] = X_train[:, 0]**2\n",
    "X2_train['x3'] = X_train[:, 0]**3\n",
    "X3_train = pd.DataFrame(columns=['x', 'x2', 'x3', 'x4'])\n",
    "X3_train['x'] = X_train[:, 0]\n",
    "X3_train['x2'] = X_train[:, 0]**2\n",
    "X3_train['x3'] = X_train[:, 0]**3\n",
    "X3_train['x4'] = X_train[:, 0]**4\n",
    "X4_train = pd.DataFrame(columns=['x', 'x2', 'x3', 'x4', 'x5'])\n",
    "X4_train['x'] = X_train[:, 0]\n",
    "X4_train['x2'] = X_train[:, 0]**2\n",
    "X4_train['x3'] = X_train[:, 0]**3\n",
    "X4_train['x4'] = X_train[:, 0]**4\n",
    "X4_train['x5'] = X_train[:, 0]**5\n",
    "\n",
    "\n",
    "# test data\n",
    "X0_test = pd.DataFrame(X_test[:, 0], columns=['x'])\n",
    "X1_test = pd.DataFrame(columns=['x', 'x2'])\n",
    "X1_test['x'] = X_test[:, 0]\n",
    "X1_test['x2'] = X_test[:, 0]**2\n",
    "X2_test = pd.DataFrame(columns=['x', 'x2', 'x3'])\n",
    "X2_test['x'] = X_test[:, 0]\n",
    "X2_test['x2'] = X_test[:, 0]**2\n",
    "X2_test['x3'] = X_test[:, 0]**3\n",
    "X3_test = pd.DataFrame(columns=['x', 'x2', 'x3', 'x4'])\n",
    "X3_test['x'] = X_test[:, 0]\n",
    "X3_test['x2'] = X_test[:, 0]**2\n",
    "X3_test['x3'] = X_test[:, 0]**3\n",
    "X3_test['x4'] = X_test[:, 0]**4\n",
    "X4_test = pd.DataFrame(columns=['x', 'x2', 'x3', 'x4', 'x5'])\n",
    "X4_test['x'] = X_test[:, 0]\n",
    "X4_test['x2'] = X_test[:, 0]**2\n",
    "X4_test['x3'] = X_test[:, 0]**3\n",
    "X4_test['x4'] = X_test[:, 0]**4\n",
    "X4_test['x5'] = X_test[:, 0]**5\n"
   ]
  },
  {
   "cell_type": "code",
   "execution_count": 58,
   "metadata": {},
   "outputs": [],
   "source": [
    "m1 = LinearRegression()\n",
    "\n",
    "# train with x0\n",
    "m1 = m1.fit(X0_train, y_train)\n",
    "y0_train_pred = m1.predict(X0_train)\n",
    "mse0_m1_train = mean_squared_error(y_true=y_train, y_pred=y0_train_pred)\n",
    "y0_test_pred = m1.predict(X0_test)\n",
    "mse0_m1_train = mean_squared_error(y_true=y_test, y_pred=y0_test_pred)\n",
    "\n",
    "# train with x1\n",
    "m1 = m1.fit(X1_train, y_train)\n",
    "y1_train_pred = m1.predict(X1_train)\n",
    "mse1_m1_train = mean_squared_error(y_true=y_train, y_pred=y1_train_pred)\n",
    "y1_test_pred = m1.predict(X1_test)\n",
    "mse1_m1_test = mean_squared_error(y_true=y_test, y_pred=y1_test_pred)\n",
    "\n",
    "# train with x2\n",
    "\n",
    "# train with x3\n",
    "\n",
    "# train with x4"
   ]
  },
  {
   "cell_type": "code",
   "execution_count": 65,
   "metadata": {},
   "outputs": [
    {
     "data": {
      "image/png": "[encoded data removed]",
      "text/plain": [
       "<Figure size 1440x720 with 1 Axes>"
      ]
     },
     "metadata": {
      "needs_background": "light"
     },
     "output_type": "display_data"
    }
   ],
   "source": [
    "import matplotlib.pyplot as plt\n",
    "%matplotlib inline \n",
    "\n",
    "train_error = [mse0_m1_train, mse1_m1_train, mse2_m1_train, mse3_m1_train, mse4_m1_train]\n",
    "test_error = [mse0_m1_test, mse1_m1_test, mse2_m1_test, mse3_m1_test, mse4_m1_test]\n",
    "\n",
    "_ = plt.figure(figsize=(20, 10))\n",
    "plt.scatter(range(len(train_error)), train_error, s=100, c='blue')\n",
    "plt.scatter(range(len(test_error)), test_error, s=100, c='red')\n",
    "plt.ylim(0, 6000)\n",
    "plt.xticks(range(len(train_error)))\n",
    "plt.show()"
   ]
  },
  {
   "cell_type": "code",
   "execution_count": null,
   "metadata": {},
   "outputs": [],
   "source": []
  }
 ],
 "metadata": {
  "kernelspec": {
   "display_name": "Python 3",
   "language": "python",
   "name": "python3"
  },
  "language_info": {
   "codemirror_mode": {
    "name": "ipython",
    "version": 3
   },
   "file_extension": ".py",
   "mimetype": "text/x-python",
   "name": "python",
   "nbconvert_exporter": "python",
   "pygments_lexer": "ipython3",
   "version": "3.8.3"
  }
 },
 "nbformat": 4,
 "nbformat_minor": 4
}
